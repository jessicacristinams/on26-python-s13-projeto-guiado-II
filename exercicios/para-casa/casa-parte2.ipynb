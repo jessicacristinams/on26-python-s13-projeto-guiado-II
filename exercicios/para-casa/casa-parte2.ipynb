{
 "cells": [
  {
   "cell_type": "code",
   "execution_count": 9,
   "metadata": {},
   "outputs": [],
   "source": [
    "import csv\n",
    "import sqlite3"
   ]
  },
  {
   "cell_type": "code",
   "execution_count": 10,
   "metadata": {},
   "outputs": [],
   "source": [
    "file = open(\"catsvdogs.csv\", encoding= 'UTF-8') "
   ]
  },
  {
   "cell_type": "code",
   "execution_count": 11,
   "metadata": {},
   "outputs": [],
   "source": [
    "conteudo = csv.reader(file)\n",
    "\n",
    "connection = sqlite3.connect(\"banco_catsvdogs.db\")\n",
    "\n",
    "cursor = connection.cursor()"
   ]
  },
  {
   "cell_type": "code",
   "execution_count": 12,
   "metadata": {},
   "outputs": [
    {
     "data": {
      "text/plain": [
       "<sqlite3.Cursor at 0x7f01e85c08c0>"
      ]
     },
     "execution_count": 12,
     "metadata": {},
     "output_type": "execute_result"
    }
   ],
   "source": [
    "cursor.execute('''CREATE TABLE IF NOT EXISTS rank (\n",
    "    Location VARCHAR,\n",
    "    Number_of_Households INT,\n",
    "    Percentage_of_households_with_pets FLOAT, \n",
    "    Number_of_Pet_Households INT,\n",
    "    Percentage_of_Dog_Owners FLOAT,\n",
    "    Dog_Owning_Households INT,\n",
    "    Mean_Number_of_Dogs_per_household FLOAT,\n",
    "    Dog_Population INT,\n",
    "    Percentage_of_Cat_Owners FLOAT,\n",
    "    Cat_Owning_Households INT,\n",
    "    Mean_Number_of_Cats FLOAT,\n",
    "    Cat_Population INT\n",
    "    \n",
    ")''')"
   ]
  },
  {
   "cell_type": "code",
   "execution_count": 13,
   "metadata": {},
   "outputs": [
    {
     "ename": "OperationalError",
     "evalue": "near \"of\": syntax error",
     "output_type": "error",
     "traceback": [
      "\u001b[0;31m---------------------------------------------------------------------------\u001b[0m",
      "\u001b[0;31mOperationalError\u001b[0m                          Traceback (most recent call last)",
      "\u001b[1;32m/home/jessica/Reprograma-Python/semana13/on26-python-s13-projeto-guiado-II/exercicios/para-casa/casa-parte2.ipynb Cell 5\u001b[0m line \u001b[0;36m3\n\u001b[1;32m      <a href='vscode-notebook-cell:/home/jessica/Reprograma-Python/semana13/on26-python-s13-projeto-guiado-II/exercicios/para-casa/casa-parte2.ipynb#W4sZmlsZQ%3D%3D?line=0'>1</a>\u001b[0m inserir_conteudo \u001b[39m=\u001b[39m \u001b[39m\"\u001b[39m\u001b[39mINSERT INTO rank (Location, Number of Households (in 1000), Percentage of households with pets, Number of Pet Households (in 1000), Percentage of Dog Owners, Dog Owning Households (1000s), Mean Number of Dogs per household, Dog Population (in 1000), Percentage of Cat Owners, Cat Owning Households, Mean Number of Cats, Cat Population)VALUES(?, ?, ?, ?, ?, ?, ?, ?, ?, ?, ?, ?)\u001b[39m\u001b[39m\"\u001b[39m\n\u001b[0;32m----> <a href='vscode-notebook-cell:/home/jessica/Reprograma-Python/semana13/on26-python-s13-projeto-guiado-II/exercicios/para-casa/casa-parte2.ipynb#W4sZmlsZQ%3D%3D?line=2'>3</a>\u001b[0m cursor\u001b[39m.\u001b[39;49mexecutemany(inserir_conteudo, conteudo)\n",
      "\u001b[0;31mOperationalError\u001b[0m: near \"of\": syntax error"
     ]
    }
   ],
   "source": [
    "inserir_conteudo = \"INSERT INTO rank (Location, Number_of_Households, Percentage_of_households_with_pets, Number_of_Pet_Households, Percentage_of_Dog_Owners, Dog_Owning_Households, Mean_Number_of_Dogs_per_household, Dog_Population, Percentage_of_Cat_Owners, Cat_Owning_Households, Mean_Number_of_Cats, Cat_Population)VALUES(?, ?, ?, ?, ?, ?, ?, ?, ?, ?, ?, ?)\"\n",
    "\n",
    "cursor.executemany(inserir_conteudo, conteudo)"
   ]
  },
  {
   "cell_type": "code",
   "execution_count": null,
   "metadata": {},
   "outputs": [],
   "source": [
    "selecionar_tudo = \"SELECT * FROM rank\"\n",
    "entradas = cursor.execute(selecionar_tudo).fetchall()"
   ]
  },
  {
   "cell_type": "code",
   "execution_count": null,
   "metadata": {},
   "outputs": [],
   "source": [
    "for entrada in entradas:\n",
    "  print(entrada)"
   ]
  },
  {
   "cell_type": "code",
   "execution_count": null,
   "metadata": {},
   "outputs": [],
   "source": [
    "connection.commit()\n",
    "connection.close()"
   ]
  },
  {
   "cell_type": "code",
   "execution_count": null,
   "metadata": {},
   "outputs": [],
   "source": []
  }
 ],
 "metadata": {
  "kernelspec": {
   "display_name": "Python 3",
   "language": "python",
   "name": "python3"
  },
  "language_info": {
   "codemirror_mode": {
    "name": "ipython",
    "version": 3
   },
   "file_extension": ".py",
   "mimetype": "text/x-python",
   "name": "python",
   "nbconvert_exporter": "python",
   "pygments_lexer": "ipython3",
   "version": "3.11.0"
  },
  "orig_nbformat": 4
 },
 "nbformat": 4,
 "nbformat_minor": 2
}
